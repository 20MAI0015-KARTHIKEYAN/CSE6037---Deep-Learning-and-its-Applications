{
 "cells": [
  {
   "cell_type": "markdown",
   "metadata": {},
   "source": [
    "20MAI0015 ACTIVITY 2"
   ]
  },
  {
   "cell_type": "markdown",
   "metadata": {
    "id": "0RSuS2GBI1YU"
   },
   "source": [
    "# VGGNET IMPLEMENTATION"
   ]
  },
  {
   "cell_type": "code",
   "execution_count": null,
   "metadata": {
    "id": "6Tyu8c61c_ER"
   },
   "outputs": [],
   "source": [
    "import keras\n",
    "from keras.layers import Conv2D, MaxPooling2D, ZeroPadding2D, Convolution2D\n",
    "from keras import backend as K\n",
    "import tensorflow as tf\n",
    "import matplotlib.pyplot as plt\n",
    "from keras.datasets import cifar10\n",
    "from keras.preprocessing.image import ImageDataGenerator\n",
    "from keras.models import Sequential\n",
    "from keras.layers import Dense, Dropout, Activation, Flatten\n",
    "from keras.layers import Conv2D, MaxPooling2D, BatchNormalization\n",
    "from keras import optimizers\n",
    "import numpy as np\n",
    "from keras.layers.core import Lambda\n",
    "from keras import backend as K\n",
    "from keras import regularizers"
   ]
  },
  {
   "cell_type": "code",
   "execution_count": null,
   "metadata": {
    "id": "yPKVUFQQc_kI"
   },
   "outputs": [],
   "source": [
    "from keras.datasets import cifar10\n",
    "\n",
    "(x_train, y_train), (x_test, y_test) = cifar10.load_data()\n",
    "x_train = x_train.astype('float32')\n",
    "x_test = x_test.astype('float32')\n",
    "\n",
    "y_train = keras.utils.to_categorical(y_train, 10)\n",
    "y_test = keras.utils.to_categorical(y_test, 10)"
   ]
  },
  {
   "cell_type": "code",
   "execution_count": null,
   "metadata": {
    "colab": {
     "base_uri": "https://localhost:8080/"
    },
    "id": "k8ufVlvUc_rd",
    "outputId": "8f89f5fd-79b7-48cd-a265-09dc3ad789ab"
   },
   "outputs": [
    {
     "data": {
      "text/plain": [
       "(50000, 32, 32, 3)"
      ]
     },
     "execution_count": 3,
     "metadata": {
      "tags": []
     },
     "output_type": "execute_result"
    }
   ],
   "source": [
    "x_train.shape"
   ]
  },
  {
   "cell_type": "code",
   "execution_count": null,
   "metadata": {
    "colab": {
     "base_uri": "https://localhost:8080/"
    },
    "id": "Wff64iMqdV-t",
    "outputId": "ccbb570c-a76c-4215-f520-82656202460e"
   },
   "outputs": [
    {
     "data": {
      "text/plain": [
       "(50000, 10)"
      ]
     },
     "execution_count": 4,
     "metadata": {
      "tags": []
     },
     "output_type": "execute_result"
    }
   ],
   "source": [
    "y_train.shape"
   ]
  },
  {
   "cell_type": "code",
   "execution_count": null,
   "metadata": {
    "id": "Cw0kW0Q8c_t5"
   },
   "outputs": [],
   "source": [
    "model = Sequential()\n",
    "weight_decay = 0.0005\n",
    "x_shape = [32,32,3]\n",
    "\n",
    "model.add(Conv2D(64, (3, 3), padding='same', input_shape=x_shape, kernel_regularizer=regularizers.l2(weight_decay)))\n",
    "model.add(Activation('relu'))\n",
    "model.add(BatchNormalization())\n",
    "model.add(Dropout(0.3))\n",
    "\n",
    "model.add(Conv2D(64, (3, 3), padding='same',kernel_regularizer=regularizers.l2(weight_decay)))\n",
    "model.add(Activation('relu'))\n",
    "model.add(BatchNormalization())\n",
    "\n",
    "model.add(MaxPooling2D(pool_size=(2, 2)))\n",
    "\n",
    "model.add(Conv2D(128, (3, 3), padding='same',kernel_regularizer=regularizers.l2(weight_decay)))\n",
    "model.add(Activation('relu'))\n",
    "model.add(BatchNormalization())\n",
    "model.add(Dropout(0.4))\n",
    "\n",
    "model.add(Conv2D(128, (3, 3), padding='same',kernel_regularizer=regularizers.l2(weight_decay)))\n",
    "model.add(Activation('relu'))\n",
    "model.add(BatchNormalization())\n",
    "\n",
    "model.add(MaxPooling2D(pool_size=(2, 2)))\n",
    "\n",
    "model.add(Conv2D(256, (3, 3), padding='same',kernel_regularizer=regularizers.l2(weight_decay)))\n",
    "model.add(Activation('relu'))\n",
    "model.add(BatchNormalization())\n",
    "model.add(Dropout(0.4))\n",
    "\n",
    "model.add(Conv2D(256, (3, 3), padding='same',kernel_regularizer=regularizers.l2(weight_decay)))\n",
    "model.add(Activation('relu'))\n",
    "model.add(BatchNormalization())\n",
    "model.add(Dropout(0.4))\n",
    "\n",
    "model.add(Conv2D(256, (3, 3), padding='same',kernel_regularizer=regularizers.l2(weight_decay)))\n",
    "model.add(Activation('relu'))\n",
    "model.add(BatchNormalization())\n",
    "\n",
    "model.add(MaxPooling2D(pool_size=(2, 2)))\n",
    "\n",
    "\n",
    "model.add(Conv2D(512, (3, 3), padding='same',kernel_regularizer=regularizers.l2(weight_decay)))\n",
    "model.add(Activation('relu'))\n",
    "model.add(BatchNormalization())\n",
    "model.add(Dropout(0.4))\n",
    "\n",
    "model.add(Conv2D(512, (3, 3), padding='same',kernel_regularizer=regularizers.l2(weight_decay)))\n",
    "model.add(Activation('relu'))\n",
    "model.add(BatchNormalization())\n",
    "model.add(Dropout(0.4))\n",
    "\n",
    "model.add(Conv2D(512, (3, 3), padding='same',kernel_regularizer=regularizers.l2(weight_decay)))\n",
    "model.add(Activation('relu'))\n",
    "model.add(BatchNormalization())\n",
    "\n",
    "model.add(MaxPooling2D(pool_size=(2, 2)))\n",
    "\n",
    "\n",
    "model.add(Conv2D(512, (3, 3), padding='same',kernel_regularizer=regularizers.l2(weight_decay)))\n",
    "model.add(Activation('relu'))\n",
    "model.add(BatchNormalization())\n",
    "model.add(Dropout(0.4))\n",
    "\n",
    "model.add(Conv2D(512, (3, 3), padding='same',kernel_regularizer=regularizers.l2(weight_decay)))\n",
    "model.add(Activation('relu'))\n",
    "model.add(BatchNormalization())\n",
    "model.add(Dropout(0.4))\n",
    "\n",
    "model.add(Conv2D(512, (3, 3), padding='same',kernel_regularizer=regularizers.l2(weight_decay)))\n",
    "model.add(Activation('relu'))\n",
    "model.add(BatchNormalization())\n",
    "\n",
    "model.add(MaxPooling2D(pool_size=(2, 2)))\n",
    "model.add(Dropout(0.5))\n",
    "\n",
    "model.add(Flatten())\n",
    "model.add(Dense(512,kernel_regularizer=regularizers.l2(weight_decay)))\n",
    "model.add(Activation('relu'))\n",
    "model.add(BatchNormalization())\n",
    "\n",
    "model.add(Dropout(0.5))\n",
    "model.add(Dense(10))\n",
    "model.add(Activation('softmax'))"
   ]
  },
  {
   "cell_type": "code",
   "execution_count": null,
   "metadata": {
    "id": "Su5I7BJIdG0E"
   },
   "outputs": [],
   "source": [
    "learning_rate = 0.1\n",
    "lr_decay = 1e-6\n",
    "lr_drop = 20\n",
    "\n",
    "sgd = optimizers.SGD(lr=learning_rate, decay=lr_decay, momentum=0.9, nesterov=True)\n",
    "\n",
    "model.compile(loss='categorical_crossentropy', optimizer=sgd, metrics=['accuracy'])"
   ]
  },
  {
   "cell_type": "code",
   "execution_count": null,
   "metadata": {
    "id": "chzNrtR8dG2h"
   },
   "outputs": [],
   "source": [
    "datagen = ImageDataGenerator(\n",
    "    \n",
    "    featurewise_center=False,  # set input mean to 0 over the dataset\n",
    "    samplewise_center=False,  # set each sample mean to 0\n",
    "    featurewise_std_normalization=False,  # divide inputs by std of the dataset\n",
    "    samplewise_std_normalization=False,  # divide each input by its std\n",
    "    zca_whitening=False,  # apply ZCA whitening\n",
    "    rotation_range=15,  # randomly rotate images in the range (degrees, 0 to 180)\n",
    "    width_shift_range=0.1,  # randomly shift images horizontally (fraction of total width)\n",
    "    height_shift_range=0.1,  # randomly shift images vertically (fraction of total height)\n",
    "    horizontal_flip=True,  # randomly flip images\n",
    "    vertical_flip=False)  # randomly flip images\n",
    "# (std, mean, and principal components if ZCA whitening is applied)."
   ]
  },
  {
   "cell_type": "code",
   "execution_count": null,
   "metadata": {
    "id": "nTFPXr6kdG4s"
   },
   "outputs": [],
   "source": [
    "def lr_scheduler(epoch):\n",
    "            return learning_rate * (0.5 ** (epoch // lr_drop))\n",
    "    \n",
    "reduce_lr = keras.callbacks.LearningRateScheduler(lr_scheduler)"
   ]
  },
  {
   "cell_type": "code",
   "execution_count": null,
   "metadata": {
    "colab": {
     "base_uri": "https://localhost:8080/"
    },
    "id": "7ktWGX9JefM0",
    "outputId": "28bd7b84-0335-40ea-ecbd-62dfc0ed6ac2"
   },
   "outputs": [
    {
     "name": "stdout",
     "output_type": "stream",
     "text": [
      "Model: \"sequential\"\n",
      "_________________________________________________________________\n",
      "Layer (type)                 Output Shape              Param #   \n",
      "=================================================================\n",
      "conv2d (Conv2D)              (None, 32, 32, 64)        1792      \n",
      "_________________________________________________________________\n",
      "activation (Activation)      (None, 32, 32, 64)        0         \n",
      "_________________________________________________________________\n",
      "batch_normalization (BatchNo (None, 32, 32, 64)        256       \n",
      "_________________________________________________________________\n",
      "dropout (Dropout)            (None, 32, 32, 64)        0         \n",
      "_________________________________________________________________\n",
      "conv2d_1 (Conv2D)            (None, 32, 32, 64)        36928     \n",
      "_________________________________________________________________\n",
      "activation_1 (Activation)    (None, 32, 32, 64)        0         \n",
      "_________________________________________________________________\n",
      "batch_normalization_1 (Batch (None, 32, 32, 64)        256       \n",
      "_________________________________________________________________\n",
      "max_pooling2d (MaxPooling2D) (None, 16, 16, 64)        0         \n",
      "_________________________________________________________________\n",
      "conv2d_2 (Conv2D)            (None, 16, 16, 128)       73856     \n",
      "_________________________________________________________________\n",
      "activation_2 (Activation)    (None, 16, 16, 128)       0         \n",
      "_________________________________________________________________\n",
      "batch_normalization_2 (Batch (None, 16, 16, 128)       512       \n",
      "_________________________________________________________________\n",
      "dropout_1 (Dropout)          (None, 16, 16, 128)       0         \n",
      "_________________________________________________________________\n",
      "conv2d_3 (Conv2D)            (None, 16, 16, 128)       147584    \n",
      "_________________________________________________________________\n",
      "activation_3 (Activation)    (None, 16, 16, 128)       0         \n",
      "_________________________________________________________________\n",
      "batch_normalization_3 (Batch (None, 16, 16, 128)       512       \n",
      "_________________________________________________________________\n",
      "max_pooling2d_1 (MaxPooling2 (None, 8, 8, 128)         0         \n",
      "_________________________________________________________________\n",
      "conv2d_4 (Conv2D)            (None, 8, 8, 256)         295168    \n",
      "_________________________________________________________________\n",
      "activation_4 (Activation)    (None, 8, 8, 256)         0         \n",
      "_________________________________________________________________\n",
      "batch_normalization_4 (Batch (None, 8, 8, 256)         1024      \n",
      "_________________________________________________________________\n",
      "dropout_2 (Dropout)          (None, 8, 8, 256)         0         \n",
      "_________________________________________________________________\n",
      "conv2d_5 (Conv2D)            (None, 8, 8, 256)         590080    \n",
      "_________________________________________________________________\n",
      "activation_5 (Activation)    (None, 8, 8, 256)         0         \n",
      "_________________________________________________________________\n",
      "batch_normalization_5 (Batch (None, 8, 8, 256)         1024      \n",
      "_________________________________________________________________\n",
      "dropout_3 (Dropout)          (None, 8, 8, 256)         0         \n",
      "_________________________________________________________________\n",
      "conv2d_6 (Conv2D)            (None, 8, 8, 256)         590080    \n",
      "_________________________________________________________________\n",
      "activation_6 (Activation)    (None, 8, 8, 256)         0         \n",
      "_________________________________________________________________\n",
      "batch_normalization_6 (Batch (None, 8, 8, 256)         1024      \n",
      "_________________________________________________________________\n",
      "max_pooling2d_2 (MaxPooling2 (None, 4, 4, 256)         0         \n",
      "_________________________________________________________________\n",
      "conv2d_7 (Conv2D)            (None, 4, 4, 512)         1180160   \n",
      "_________________________________________________________________\n",
      "activation_7 (Activation)    (None, 4, 4, 512)         0         \n",
      "_________________________________________________________________\n",
      "batch_normalization_7 (Batch (None, 4, 4, 512)         2048      \n",
      "_________________________________________________________________\n",
      "dropout_4 (Dropout)          (None, 4, 4, 512)         0         \n",
      "_________________________________________________________________\n",
      "conv2d_8 (Conv2D)            (None, 4, 4, 512)         2359808   \n",
      "_________________________________________________________________\n",
      "activation_8 (Activation)    (None, 4, 4, 512)         0         \n",
      "_________________________________________________________________\n",
      "batch_normalization_8 (Batch (None, 4, 4, 512)         2048      \n",
      "_________________________________________________________________\n",
      "dropout_5 (Dropout)          (None, 4, 4, 512)         0         \n",
      "_________________________________________________________________\n",
      "conv2d_9 (Conv2D)            (None, 4, 4, 512)         2359808   \n",
      "_________________________________________________________________\n",
      "activation_9 (Activation)    (None, 4, 4, 512)         0         \n",
      "_________________________________________________________________\n",
      "batch_normalization_9 (Batch (None, 4, 4, 512)         2048      \n",
      "_________________________________________________________________\n",
      "max_pooling2d_3 (MaxPooling2 (None, 2, 2, 512)         0         \n",
      "_________________________________________________________________\n",
      "conv2d_10 (Conv2D)           (None, 2, 2, 512)         2359808   \n",
      "_________________________________________________________________\n",
      "activation_10 (Activation)   (None, 2, 2, 512)         0         \n",
      "_________________________________________________________________\n",
      "batch_normalization_10 (Batc (None, 2, 2, 512)         2048      \n",
      "_________________________________________________________________\n",
      "dropout_6 (Dropout)          (None, 2, 2, 512)         0         \n",
      "_________________________________________________________________\n",
      "conv2d_11 (Conv2D)           (None, 2, 2, 512)         2359808   \n",
      "_________________________________________________________________\n",
      "activation_11 (Activation)   (None, 2, 2, 512)         0         \n",
      "_________________________________________________________________\n",
      "batch_normalization_11 (Batc (None, 2, 2, 512)         2048      \n",
      "_________________________________________________________________\n",
      "dropout_7 (Dropout)          (None, 2, 2, 512)         0         \n",
      "_________________________________________________________________\n",
      "conv2d_12 (Conv2D)           (None, 2, 2, 512)         2359808   \n",
      "_________________________________________________________________\n",
      "activation_12 (Activation)   (None, 2, 2, 512)         0         \n",
      "_________________________________________________________________\n",
      "batch_normalization_12 (Batc (None, 2, 2, 512)         2048      \n",
      "_________________________________________________________________\n",
      "max_pooling2d_4 (MaxPooling2 (None, 1, 1, 512)         0         \n",
      "_________________________________________________________________\n",
      "dropout_8 (Dropout)          (None, 1, 1, 512)         0         \n",
      "_________________________________________________________________\n",
      "flatten (Flatten)            (None, 512)               0         \n",
      "_________________________________________________________________\n",
      "dense (Dense)                (None, 512)               262656    \n",
      "_________________________________________________________________\n",
      "activation_13 (Activation)   (None, 512)               0         \n",
      "_________________________________________________________________\n",
      "batch_normalization_13 (Batc (None, 512)               2048      \n",
      "_________________________________________________________________\n",
      "dropout_9 (Dropout)          (None, 512)               0         \n",
      "_________________________________________________________________\n",
      "dense_1 (Dense)              (None, 10)                5130      \n",
      "_________________________________________________________________\n",
      "activation_14 (Activation)   (None, 10)                0         \n",
      "=================================================================\n",
      "Total params: 15,001,418\n",
      "Trainable params: 14,991,946\n",
      "Non-trainable params: 9,472\n",
      "_________________________________________________________________\n"
     ]
    }
   ],
   "source": [
    "model.summary()"
   ]
  },
  {
   "cell_type": "code",
   "execution_count": null,
   "metadata": {
    "colab": {
     "base_uri": "https://localhost:8080/"
    },
    "id": "RAQ_ri-IdG9A",
    "outputId": "4b2d3a71-9bf6-4ef8-cd77-d840be1448e4"
   },
   "outputs": [
    {
     "name": "stdout",
     "output_type": "stream",
     "text": [
      "Epoch 1/50\n",
      "390/390 [==============================] - 67s 155ms/step - loss: 163.2072 - accuracy: 0.1573 - val_loss: 182.2560 - val_accuracy: 0.2084\n",
      "Epoch 2/50\n",
      "390/390 [==============================] - 61s 152ms/step - loss: 151.8931 - accuracy: 0.2976 - val_loss: 84.2700 - val_accuracy: 0.2457\n",
      "Epoch 3/50\n",
      "390/390 [==============================] - 59s 151ms/step - loss: 70.0465 - accuracy: 0.4057 - val_loss: 39.4524 - val_accuracy: 0.2802\n",
      "Epoch 4/50\n",
      "390/390 [==============================] - 59s 151ms/step - loss: 32.7148 - accuracy: 0.5038 - val_loss: 19.1628 - val_accuracy: 0.4017\n",
      "Epoch 5/50\n",
      "390/390 [==============================] - 59s 151ms/step - loss: 15.6804 - accuracy: 0.5865 - val_loss: 9.7717 - val_accuracy: 0.4607\n",
      "Epoch 6/50\n",
      "390/390 [==============================] - 59s 152ms/step - loss: 7.8951 - accuracy: 0.6373 - val_loss: 5.1484 - val_accuracy: 0.5943\n",
      "Epoch 7/50\n",
      "390/390 [==============================] - 59s 151ms/step - loss: 4.3348 - accuracy: 0.6828 - val_loss: 3.2301 - val_accuracy: 0.6125\n",
      "Epoch 8/50\n",
      "390/390 [==============================] - 59s 151ms/step - loss: 2.7192 - accuracy: 0.7083 - val_loss: 2.2788 - val_accuracy: 0.6691\n",
      "Epoch 9/50\n",
      "390/390 [==============================] - 59s 151ms/step - loss: 1.9963 - accuracy: 0.7279 - val_loss: 1.9327 - val_accuracy: 0.6695\n",
      "Epoch 10/50\n",
      "390/390 [==============================] - 59s 151ms/step - loss: 1.6541 - accuracy: 0.7371 - val_loss: 1.8386 - val_accuracy: 0.6535\n",
      "Epoch 11/50\n",
      "390/390 [==============================] - 59s 151ms/step - loss: 1.5246 - accuracy: 0.7465 - val_loss: 1.6312 - val_accuracy: 0.7018\n",
      "Epoch 12/50\n",
      "390/390 [==============================] - 59s 151ms/step - loss: 1.4569 - accuracy: 0.7549 - val_loss: 1.5885 - val_accuracy: 0.7140\n",
      "Epoch 13/50\n",
      "390/390 [==============================] - 59s 151ms/step - loss: 1.4417 - accuracy: 0.7601 - val_loss: 1.8720 - val_accuracy: 0.6314\n",
      "Epoch 14/50\n",
      "390/390 [==============================] - 59s 151ms/step - loss: 1.4247 - accuracy: 0.7694 - val_loss: 1.5288 - val_accuracy: 0.7361\n",
      "Epoch 15/50\n",
      "390/390 [==============================] - 59s 151ms/step - loss: 1.4474 - accuracy: 0.7684 - val_loss: 1.4041 - val_accuracy: 0.7772\n",
      "Epoch 16/50\n",
      "390/390 [==============================] - 59s 151ms/step - loss: 1.4268 - accuracy: 0.7727 - val_loss: 1.5263 - val_accuracy: 0.7389\n",
      "Epoch 17/50\n",
      "390/390 [==============================] - 59s 150ms/step - loss: 1.4402 - accuracy: 0.7764 - val_loss: 1.5678 - val_accuracy: 0.7376\n",
      "Epoch 18/50\n",
      "390/390 [==============================] - 59s 151ms/step - loss: 1.4596 - accuracy: 0.7785 - val_loss: 2.3002 - val_accuracy: 0.5200\n",
      "Epoch 19/50\n",
      "390/390 [==============================] - 59s 151ms/step - loss: 1.4538 - accuracy: 0.7846 - val_loss: 1.6741 - val_accuracy: 0.7068\n",
      "Epoch 20/50\n",
      "390/390 [==============================] - 59s 151ms/step - loss: 1.4761 - accuracy: 0.7815 - val_loss: 1.5886 - val_accuracy: 0.7442\n",
      "Epoch 21/50\n",
      "390/390 [==============================] - 59s 151ms/step - loss: 1.3517 - accuracy: 0.8154 - val_loss: 1.2441 - val_accuracy: 0.8231\n",
      "Epoch 22/50\n",
      "390/390 [==============================] - 58s 150ms/step - loss: 1.1683 - accuracy: 0.8377 - val_loss: 1.2474 - val_accuracy: 0.8028\n",
      "Epoch 23/50\n",
      "390/390 [==============================] - 59s 150ms/step - loss: 1.1486 - accuracy: 0.8342 - val_loss: 1.1885 - val_accuracy: 0.8229\n",
      "Epoch 24/50\n",
      "390/390 [==============================] - 59s 150ms/step - loss: 1.1438 - accuracy: 0.8372 - val_loss: 1.2157 - val_accuracy: 0.8117\n",
      "Epoch 25/50\n",
      "390/390 [==============================] - 59s 150ms/step - loss: 1.1441 - accuracy: 0.8366 - val_loss: 1.3993 - val_accuracy: 0.7578\n",
      "Epoch 26/50\n",
      "390/390 [==============================] - 59s 150ms/step - loss: 1.1534 - accuracy: 0.8388 - val_loss: 1.3167 - val_accuracy: 0.7875\n",
      "Epoch 27/50\n",
      "390/390 [==============================] - 59s 150ms/step - loss: 1.1579 - accuracy: 0.8419 - val_loss: 1.2776 - val_accuracy: 0.8064\n",
      "Epoch 28/50\n",
      "390/390 [==============================] - 59s 151ms/step - loss: 1.1577 - accuracy: 0.8431 - val_loss: 1.2341 - val_accuracy: 0.8215\n",
      "Epoch 29/50\n",
      "390/390 [==============================] - 59s 151ms/step - loss: 1.1666 - accuracy: 0.8452 - val_loss: 1.5312 - val_accuracy: 0.7421\n",
      "Epoch 30/50\n",
      "390/390 [==============================] - 59s 151ms/step - loss: 1.1818 - accuracy: 0.8439 - val_loss: 1.3128 - val_accuracy: 0.8055\n",
      "Epoch 31/50\n",
      "390/390 [==============================] - 59s 151ms/step - loss: 1.1962 - accuracy: 0.8438 - val_loss: 1.2800 - val_accuracy: 0.8153\n",
      "Epoch 32/50\n",
      "390/390 [==============================] - 59s 150ms/step - loss: 1.1924 - accuracy: 0.8463 - val_loss: 1.3144 - val_accuracy: 0.8063\n",
      "Epoch 33/50\n",
      "390/390 [==============================] - 59s 150ms/step - loss: 1.2025 - accuracy: 0.8482 - val_loss: 1.5913 - val_accuracy: 0.7370\n",
      "Epoch 34/50\n",
      "390/390 [==============================] - 59s 150ms/step - loss: 1.1972 - accuracy: 0.8496 - val_loss: 1.4149 - val_accuracy: 0.7873\n",
      "Epoch 35/50\n",
      "390/390 [==============================] - 59s 151ms/step - loss: 1.1928 - accuracy: 0.8542 - val_loss: 1.4440 - val_accuracy: 0.7758\n",
      "Epoch 36/50\n",
      "390/390 [==============================] - 59s 151ms/step - loss: 1.2126 - accuracy: 0.8491 - val_loss: 1.7909 - val_accuracy: 0.6816\n",
      "Epoch 37/50\n",
      "390/390 [==============================] - 59s 151ms/step - loss: 1.2168 - accuracy: 0.8515 - val_loss: 1.3636 - val_accuracy: 0.8056\n",
      "Epoch 38/50\n",
      "390/390 [==============================] - 59s 151ms/step - loss: 1.2041 - accuracy: 0.8548 - val_loss: 1.4661 - val_accuracy: 0.7764\n",
      "Epoch 39/50\n",
      "390/390 [==============================] - 59s 151ms/step - loss: 1.2223 - accuracy: 0.8496 - val_loss: 1.5227 - val_accuracy: 0.7540\n",
      "Epoch 40/50\n",
      "390/390 [==============================] - 59s 151ms/step - loss: 1.2125 - accuracy: 0.8556 - val_loss: 1.4944 - val_accuracy: 0.7729\n",
      "Epoch 41/50\n",
      "390/390 [==============================] - 59s 151ms/step - loss: 1.1333 - accuracy: 0.8767 - val_loss: 1.2022 - val_accuracy: 0.8400\n",
      "Epoch 42/50\n",
      "390/390 [==============================] - 59s 150ms/step - loss: 0.9929 - accuracy: 0.9009 - val_loss: 1.1442 - val_accuracy: 0.8486\n",
      "Epoch 43/50\n",
      "390/390 [==============================] - 59s 150ms/step - loss: 0.9600 - accuracy: 0.8994 - val_loss: 1.1392 - val_accuracy: 0.8424\n",
      "Epoch 44/50\n",
      "390/390 [==============================] - 59s 151ms/step - loss: 0.9365 - accuracy: 0.9026 - val_loss: 1.1078 - val_accuracy: 0.8519\n",
      "Epoch 45/50\n",
      "390/390 [==============================] - 59s 151ms/step - loss: 0.9377 - accuracy: 0.9008 - val_loss: 1.1193 - val_accuracy: 0.8449\n",
      "Epoch 46/50\n",
      "390/390 [==============================] - 59s 151ms/step - loss: 0.9413 - accuracy: 0.8960 - val_loss: 1.1475 - val_accuracy: 0.8362\n",
      "Epoch 47/50\n",
      "390/390 [==============================] - 59s 151ms/step - loss: 0.9367 - accuracy: 0.8981 - val_loss: 1.1354 - val_accuracy: 0.8438\n",
      "Epoch 48/50\n",
      "390/390 [==============================] - 59s 151ms/step - loss: 0.9397 - accuracy: 0.8997 - val_loss: 1.2414 - val_accuracy: 0.8197\n",
      "Epoch 49/50\n",
      "390/390 [==============================] - 59s 151ms/step - loss: 0.9394 - accuracy: 0.9002 - val_loss: 1.1674 - val_accuracy: 0.8408\n",
      "Epoch 50/50\n",
      "390/390 [==============================] - 59s 151ms/step - loss: 0.9574 - accuracy: 0.8983 - val_loss: 1.1757 - val_accuracy: 0.8374\n"
     ]
    }
   ],
   "source": [
    "batch_size = 128\n",
    "maxepoches = 50\n",
    "\n",
    "\n",
    "history = model.fit(x_train, y_train,batch_size=batch_size,steps_per_epoch=x_train.shape[0] // batch_size,epochs=maxepoches,validation_data=(x_test, y_test),callbacks=[reduce_lr], verbose=1)\n"
   ]
  },
  {
   "cell_type": "code",
   "execution_count": null,
   "metadata": {
    "colab": {
     "base_uri": "https://localhost:8080/"
    },
    "id": "OLY8tFQJebbf",
    "outputId": "d7637b6d-df73-4355-ddc1-e4088c83fccf"
   },
   "outputs": [
    {
     "name": "stdout",
     "output_type": "stream",
     "text": [
      "313/313 [==============================] - 7s 22ms/step - loss: 1.1757 - accuracy: 0.8374\n"
     ]
    },
    {
     "data": {
      "text/plain": [
       "[1.1756815910339355, 0.8374000191688538]"
      ]
     },
     "execution_count": 11,
     "metadata": {
      "tags": []
     },
     "output_type": "execute_result"
    }
   ],
   "source": [
    "model.evaluate(x_test,y_test)"
   ]
  },
  {
   "cell_type": "code",
   "execution_count": null,
   "metadata": {
    "id": "jeCMgOlwdsE8"
   },
   "outputs": [],
   "source": [
    "model.save_weights('savesvgg.hp5')"
   ]
  }
 ],
 "metadata": {
  "accelerator": "GPU",
  "colab": {
   "collapsed_sections": [],
   "name": "VGGNet.ipynb",
   "provenance": []
  },
  "kernelspec": {
   "display_name": "Python 3",
   "language": "python",
   "name": "python3"
  },
  "language_info": {
   "codemirror_mode": {
    "name": "ipython",
    "version": 3
   },
   "file_extension": ".py",
   "mimetype": "text/x-python",
   "name": "python",
   "nbconvert_exporter": "python",
   "pygments_lexer": "ipython3",
   "version": "3.7.6"
  }
 },
 "nbformat": 4,
 "nbformat_minor": 1
}
