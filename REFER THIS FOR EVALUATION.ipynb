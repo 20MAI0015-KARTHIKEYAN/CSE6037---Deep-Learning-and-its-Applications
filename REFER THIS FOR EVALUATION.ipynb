{
  "nbformat": 4,
  "nbformat_minor": 0,
  "metadata": {
    "colab": {
      "name": "DL_Lab_FAT.ipynb",
      "provenance": [],
      "collapsed_sections": []
    },
    "kernelspec": {
      "name": "python3",
      "display_name": "Python 3"
    },
    "language_info": {
      "name": "python"
    }
  },
  "cells": [
    {
      "cell_type": "markdown",
      "metadata": {
        "id": "VJmcvL_XnJeX"
      },
      "source": [
        "REG NO : 20MAI0015"
      ]
    },
    {
      "cell_type": "markdown",
      "metadata": {
        "id": "JH7bIERUwI2o"
      },
      "source": [
        "IMPORTING THE REQUIRED LIBRARIES"
      ]
    },
    {
      "cell_type": "code",
      "metadata": {
        "id": "ku9nBnNknDJY"
      },
      "source": [
        "#Main Library to do the imports for the followinng tasks\n",
        "import keras\n",
        "#FOR DATASET\n",
        "from keras.datasets import mnist\n",
        "from sklearn.utils.multiclass import unique_labels\n",
        "from tensorflow.keras.utils import to_categorical\n",
        "\n",
        "#FOR DATASET HANDLING\n",
        "import numpy as np\n",
        "import pandas as pd\n",
        "\n",
        "#FOR CONSTRUCTING CNN\n",
        "from keras.models import Sequential\n",
        "from keras.layers import Dense, Activation, Dropout, Flatten, Conv2D, MaxPooling2D"
      ],
      "execution_count": 5,
      "outputs": []
    },
    {
      "cell_type": "markdown",
      "metadata": {
        "id": "jhyYlhKhtb0G"
      },
      "source": [
        "IMPORT AND LABEL THE DATASET VARIABLES AS (X_train, Y_train), (X_test, Y_test)\n",
        "\n"
      ]
    },
    {
      "cell_type": "code",
      "metadata": {
        "id": "T9gmfkVvpPKl"
      },
      "source": [
        "(X_train, Y_train), (X_test, Y_test) = mnist.load_data()"
      ],
      "execution_count": 6,
      "outputs": []
    },
    {
      "cell_type": "markdown",
      "metadata": {
        "id": "WhMA-VNEtfJW"
      },
      "source": [
        "TAKING 20 IMAGES AS SAID IN THE PROBLEM STATEMENT\n"
      ]
    },
    {
      "cell_type": "code",
      "metadata": {
        "id": "OnBkly-upSia"
      },
      "source": [
        "X=X_train[:20]\n",
        "Y=Y_train[:20]"
      ],
      "execution_count": 7,
      "outputs": []
    },
    {
      "cell_type": "code",
      "metadata": {
        "colab": {
          "base_uri": "https://localhost:8080/"
        },
        "id": "jsTKv0AArA2s",
        "outputId": "02fa03f9-8417-43cb-8f40-e1ef607fc112"
      },
      "source": [
        "X=X.reshape(20,28,28,1)\n",
        "Y=to_categorical(Y)\n",
        "X.shape"
      ],
      "execution_count": 8,
      "outputs": [
        {
          "output_type": "execute_result",
          "data": {
            "text/plain": [
              "(20, 28, 28, 1)"
            ]
          },
          "metadata": {
            "tags": []
          },
          "execution_count": 8
        }
      ]
    },
    {
      "cell_type": "markdown",
      "metadata": {
        "id": "8mA2SpEhty-b"
      },
      "source": [
        "CONSTRUCTING CNN MODEL"
      ]
    },
    {
      "cell_type": "code",
      "metadata": {
        "colab": {
          "base_uri": "https://localhost:8080/"
        },
        "id": "Js2UCbA6qh-4",
        "outputId": "9aecb119-2f7d-4984-9fd7-33202a47d0fd"
      },
      "source": [
        "#INITIALIZING THE MODEL\n",
        "ModelCNN = Sequential()\n",
        "\n",
        "#FIRST CONVOLUTION LAYER\n",
        "ModelCNN.add(Conv2D(filters=96, input_shape=(28,28,1), kernel_size=(5,5), padding='valid'))\n",
        "ModelCNN.add(Activation('relu'))\n",
        "ModelCNN.add(MaxPooling2D(pool_size=(2,2)))\n",
        "\n",
        "#SECOND CONVOLUTION LAYER\n",
        "ModelCNN.add(Conv2D(filters=96, kernel_size=(5,5), padding='valid'))\n",
        "ModelCNN.add(Activation('relu'))\n",
        "ModelCNN.add(MaxPooling2D(pool_size=(2,2)))\n",
        "\n",
        "#TUNNELING TO THE FULLY CONNECTED LAYER\n",
        "ModelCNN.add(Flatten())\n",
        "\n",
        "#FULLY CONNECTED LAYER\n",
        "ModelCNN.add(Dense(10))\n",
        "ModelCNN.add(Activation('softmax'))\n",
        "\n",
        "#FOR PRINTING MODEL SUMMARY\n",
        "ModelCNN.summary()"
      ],
      "execution_count": 11,
      "outputs": [
        {
          "output_type": "stream",
          "text": [
            "Model: \"sequential_2\"\n",
            "_________________________________________________________________\n",
            "Layer (type)                 Output Shape              Param #   \n",
            "=================================================================\n",
            "conv2d_3 (Conv2D)            (None, 24, 24, 96)        2496      \n",
            "_________________________________________________________________\n",
            "activation_3 (Activation)    (None, 24, 24, 96)        0         \n",
            "_________________________________________________________________\n",
            "max_pooling2d_2 (MaxPooling2 (None, 12, 12, 96)        0         \n",
            "_________________________________________________________________\n",
            "conv2d_4 (Conv2D)            (None, 8, 8, 96)          230496    \n",
            "_________________________________________________________________\n",
            "activation_4 (Activation)    (None, 8, 8, 96)          0         \n",
            "_________________________________________________________________\n",
            "max_pooling2d_3 (MaxPooling2 (None, 4, 4, 96)          0         \n",
            "_________________________________________________________________\n",
            "flatten_1 (Flatten)          (None, 1536)              0         \n",
            "_________________________________________________________________\n",
            "dense_1 (Dense)              (None, 10)                15370     \n",
            "_________________________________________________________________\n",
            "activation_5 (Activation)    (None, 10)                0         \n",
            "=================================================================\n",
            "Total params: 248,362\n",
            "Trainable params: 248,362\n",
            "Non-trainable params: 0\n",
            "_________________________________________________________________\n"
          ],
          "name": "stdout"
        }
      ]
    },
    {
      "cell_type": "markdown",
      "metadata": {
        "id": "U_8WjwxIt2rM"
      },
      "source": [
        "MODEL COMPILATION"
      ]
    },
    {
      "cell_type": "code",
      "metadata": {
        "id": "iCafiwv0tFH0"
      },
      "source": [
        "ModelCNN.compile(loss = keras.losses.categorical_crossentropy, optimizer= 'adam', metrics=['accuracy'])"
      ],
      "execution_count": 12,
      "outputs": []
    },
    {
      "cell_type": "markdown",
      "metadata": {
        "id": "pap3tBAjt5Dn"
      },
      "source": [
        "MODEL FITTING"
      ]
    },
    {
      "cell_type": "code",
      "metadata": {
        "colab": {
          "base_uri": "https://localhost:8080/"
        },
        "id": "_Y-nBLO-s2rh",
        "outputId": "6a8824f2-0546-4087-cc1e-a01c890e9f24"
      },
      "source": [
        "ModelCNN.fit(X,Y, epochs=3,verbose=1)"
      ],
      "execution_count": 13,
      "outputs": [
        {
          "output_type": "stream",
          "text": [
            "Epoch 1/3\n",
            "1/1 [==============================] - 15s 15s/step - loss: 24.7112 - accuracy: 0.3000\n",
            "Epoch 2/3\n",
            "1/1 [==============================] - 0s 68ms/step - loss: 35.7379 - accuracy: 0.4500\n",
            "Epoch 3/3\n",
            "1/1 [==============================] - 0s 67ms/step - loss: 41.9495 - accuracy: 0.3500\n"
          ],
          "name": "stdout"
        },
        {
          "output_type": "execute_result",
          "data": {
            "text/plain": [
              "<keras.callbacks.History at 0x7fa1ccd19210>"
            ]
          },
          "metadata": {
            "tags": []
          },
          "execution_count": 13
        }
      ]
    },
    {
      "cell_type": "markdown",
      "metadata": {
        "id": "rInL52duy8Lo"
      },
      "source": [
        "MODEL EVALUATION"
      ]
    },
    {
      "cell_type": "code",
      "metadata": {
        "colab": {
          "base_uri": "https://localhost:8080/"
        },
        "id": "FRTZyrKWtSL4",
        "outputId": "e6fed587-86c1-4368-e607-cd5bd05561bd"
      },
      "source": [
        "ModelCNN.evaluate(X,Y)"
      ],
      "execution_count": 14,
      "outputs": [
        {
          "output_type": "stream",
          "text": [
            "1/1 [==============================] - 1s 589ms/step - loss: 22.2397 - accuracy: 0.4500\n"
          ],
          "name": "stdout"
        },
        {
          "output_type": "execute_result",
          "data": {
            "text/plain": [
              "[22.23971176147461, 0.44999998807907104]"
            ]
          },
          "metadata": {
            "tags": []
          },
          "execution_count": 14
        }
      ]
    },
    {
      "cell_type": "markdown",
      "metadata": {
        "id": "ug6iQeV4uA4I"
      },
      "source": [
        "ACCURACY : 44.999998807907104"
      ]
    },
    {
      "cell_type": "markdown",
      "metadata": {
        "id": "-EYXfuzzzJFs"
      },
      "source": [
        "Lower value in epoches impacted the performance of the model"
      ]
    },
    {
      "cell_type": "markdown",
      "metadata": {
        "id": "xl35MAD3zWbh"
      },
      "source": [
        "INADEQUATE TRAINING DATA - Only 20 Images were used to train"
      ]
    },
    {
      "cell_type": "code",
      "metadata": {
        "id": "k_R-hM5QzImx"
      },
      "source": [
        ""
      ],
      "execution_count": null,
      "outputs": []
    }
  ]
}